{
 "cells": [
  {
   "cell_type": "code",
   "execution_count": 1,
   "metadata": {
    "executionInfo": {
     "elapsed": 4343,
     "status": "ok",
     "timestamp": 1685527133350,
     "user": {
      "displayName": "Pulavendran S",
      "userId": "09545379829326731753"
     },
     "user_tz": -330
    },
    "id": "b1c96962"
   },
   "outputs": [],
   "source": [
    "import warnings\n",
    "warnings.filterwarnings(\"ignore\")\n",
    "\n",
    "import os\n",
    "import shutil\n",
    "import numpy as np\n",
    "from lib_file import lib_path\n",
    "import tensorflow as tf\n",
    "from tensorflow.keras.preprocessing.image import ImageDataGenerator"
   ]
  },
  {
   "cell_type": "code",
   "execution_count": 2,
   "metadata": {
    "executionInfo": {
     "elapsed": 496,
     "status": "ok",
     "timestamp": 1685527137963,
     "user": {
      "displayName": "Pulavendran S",
      "userId": "09545379829326731753"
     },
     "user_tz": -330
    },
    "id": "ec58542c"
   },
   "outputs": [],
   "source": [
    "dataset_path = \"colored_images\"\n",
    "\n",
    "augmented_path = \"Augmented\""
   ]
  },
  {
   "cell_type": "code",
   "execution_count": 3,
   "metadata": {
    "executionInfo": {
     "elapsed": 4,
     "status": "ok",
     "timestamp": 1685527141593,
     "user": {
      "displayName": "Pulavendran S",
      "userId": "09545379829326731753"
     },
     "user_tz": -330
    },
    "id": "454719e1"
   },
   "outputs": [],
   "source": [
    "if augmented_path in os.listdir(\".\"):\n",
    "    shutil.rmtree(augmented_path)\n",
    "\n",
    "os.makedirs(augmented_path, exist_ok=True)"
   ]
  },
  {
   "cell_type": "code",
   "execution_count": 4,
   "metadata": {
    "executionInfo": {
     "elapsed": 1041,
     "status": "ok",
     "timestamp": 1685527180853,
     "user": {
      "displayName": "Pulavendran S",
      "userId": "09545379829326731753"
     },
     "user_tz": -330
    },
    "id": "68966e80"
   },
   "outputs": [],
   "source": [
    "target_classes = [\"Mild\", \"Moderate\", \"No_DR\", \"Proliferate_DR\", \"Severe\"]\n",
    "max_size = 1805"
   ]
  },
  {
   "cell_type": "code",
   "execution_count": 5,
   "metadata": {
    "executionInfo": {
     "elapsed": 5,
     "status": "ok",
     "timestamp": 1685527185574,
     "user": {
      "displayName": "Pulavendran S",
      "userId": "09545379829326731753"
     },
     "user_tz": -330
    },
    "id": "fb700510"
   },
   "outputs": [],
   "source": [
    "datagen = ImageDataGenerator(\n",
    "        rotation_range=10,\n",
    "        width_shift_range=0.1,\n",
    "        height_shift_range=0.1,\n",
    "        zoom_range=0.1,\n",
    "        horizontal_flip=True,\n",
    "        vertical_flip=True,\n",
    "        fill_mode='constant'\n",
    "    )"
   ]
  },
  {
   "cell_type": "code",
   "execution_count": 6,
   "metadata": {
    "colab": {
     "base_uri": "https://localhost:8080/"
    },
    "executionInfo": {
     "elapsed": 406300,
     "status": "ok",
     "timestamp": 1685527610064,
     "user": {
      "displayName": "Pulavendran S",
      "userId": "09545379829326731753"
     },
     "user_tz": -330
    },
    "id": "df944cc2",
    "outputId": "d006e38c-db05-4707-fb13-cf54a6171b67"
   },
   "outputs": [
    {
     "name": "stdout",
     "output_type": "stream",
     "text": [
      "Data augmentation completed for Mild.\n",
      "Data augmentation completed for Moderate.\n",
      "Data augmentation completed for No_DR.\n",
      "Data augmentation completed for Proliferate_DR.\n",
      "Data augmentation completed for Severe.\n"
     ]
    }
   ],
   "source": [
    "for target_class in target_classes:\n",
    "    target_path = os.path.join(dataset_path, target_class)\n",
    "    augmented_target_path = os.path.join(augmented_path, target_class)\n",
    "    \n",
    "    if not os.path.exists(augmented_target_path):\n",
    "        os.makedirs(augmented_target_path)\n",
    "    \n",
    "    image_files = os.listdir(target_path)\n",
    "    \n",
    "    num_augmented_images = max_size - len(image_files)\n",
    "    \n",
    "    for i in range(num_augmented_images):\n",
    "        image_file = np.random.choice(image_files)\n",
    "        image_path = os.path.join(target_path, image_file)\n",
    "        \n",
    "        img = tf.keras.preprocessing.image.load_img(image_path, target_size=(224, 224))\n",
    "        x = tf.keras.preprocessing.image.img_to_array(img)\n",
    "        x = np.expand_dims(x, axis=0)\n",
    "        \n",
    "        aug_iter = datagen.flow(x, batch_size=1, save_to_dir=augmented_target_path,\n",
    "                                save_prefix=f'augmented_{i}', save_format='png')\n",
    "        \n",
    "        aug_image = next(aug_iter)\n",
    "    for img_name in image_files:\n",
    "        in_path = os.path.join(dataset_path, target_class, img_name)\n",
    "        out_path = os.path.join(augmented_path, target_class, img_name)\n",
    "        shutil.copyfile(in_path, out_path)\n",
    "        \n",
    "    print(f\"Data augmentation completed for {target_class}.\")"
   ]
  },
  {
   "cell_type": "code",
   "execution_count": null,
   "metadata": {
    "id": "V38-1_V2Xri0"
   },
   "outputs": [],
   "source": []
  },
  {
   "cell_type": "code",
   "execution_count": null,
   "metadata": {},
   "outputs": [],
   "source": []
  }
 ],
 "metadata": {
  "colab": {
   "machine_shape": "hm",
   "provenance": []
  },
  "kernelspec": {
   "display_name": "Python 3",
   "language": "python",
   "name": "python3"
  },
  "language_info": {
   "codemirror_mode": {
    "name": "ipython",
    "version": 3
   },
   "file_extension": ".py",
   "mimetype": "text/x-python",
   "name": "python",
   "nbconvert_exporter": "python",
   "pygments_lexer": "ipython3",
   "version": "3.7.4"
  }
 },
 "nbformat": 4,
 "nbformat_minor": 5
}
